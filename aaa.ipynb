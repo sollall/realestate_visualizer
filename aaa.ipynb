{
 "cells": [
  {
   "cell_type": "code",
   "execution_count": 2,
   "metadata": {},
   "outputs": [],
   "source": [
    "import requests\n",
    "from bs4 import BeautifulSoup\n",
    "from retry import retry\n",
    "\n",
    "import numpy as np\n",
    "import re\n",
    "import pandas as pd\n",
    "from datetime import datetime"
   ]
  },
  {
   "cell_type": "code",
   "execution_count": 13,
   "metadata": {},
   "outputs": [],
   "source": [
    "# SUUMOを東京都23区のみ指定して検索して出力した画面のurl(ページ数フォーマットが必要)\n",
    "url = \"https://suumo.jp/jj/bukken/ichiran/JJ010FJ001/?ar=030&bs=011&ta=13&jspIdFlg=patternShikugun&sc=13101&sc=13102&sc=13103&sc=13104&sc=13105&sc=13113&sc=13106&sc=13107&sc=13108&sc=13118&sc=13121&sc=13122&sc=13123&sc=13109&sc=13110&sc=13111&sc=13112&sc=13114&sc=13115&sc=13120&sc=13116&sc=13117&sc=13119&kb=1&kt=9999999&mb=0&mt=9999999&ekTjCd=&ekTjNm=&tj=0&cnb=0&cn=9999999&srch_navi={{2}}&page={}\"\n",
    "\n",
    "\n",
    "# リクエストがうまく行かないパターンを回避するためのやり直し\n",
    "@retry(tries=3, delay=10, backoff=2)\n",
    "def load_page(url):\n",
    "    html = requests.get(url)\n",
    "    soup = BeautifulSoup(html.content, 'html.parser')\n",
    "    return soup"
   ]
  },
  {
   "cell_type": "code",
   "execution_count": 54,
   "metadata": {},
   "outputs": [
    {
     "name": "stdout",
     "output_type": "stream",
     "text": [
      "147000000\n",
      "150000000\n",
      "100000000\n",
      "50000000\n"
     ]
    }
   ],
   "source": [
    "# 面積を抽出する関数\n",
    "def extract_area(text):\n",
    "    match = re.search(r'(\\d+(\\.\\d+)?)m2', text)\n",
    "    if match:\n",
    "        return float(match.group(1))\n",
    "    return None\n",
    "\n",
    "extract_area(\"50.00m2　（15.13m2）\")\n",
    "\n",
    "def extract_name(text):\n",
    "    return text.split()[0]\n",
    "\n",
    "extract_name(\"給田西住宅\\u3000１号棟\")\n",
    "\n",
    "def extract_price(text):\n",
    "    text = text.strip()\n",
    "    match = re.search(r'((\\d+)億)?\\s*((\\d+)万)?', text)\n",
    "    if match:\n",
    "        oku = int(match.group(2)) * 100000000 if match.group(2) else 0\n",
    "        man = int(match.group(4)) * 10000 if match.group(4) else 0\n",
    "        return oku + man\n",
    "    return None\n",
    "\n",
    "print(extract_price(\"\\n1億4700万円\\n\"))  # Output: 147000000\n",
    "print(extract_price(\"1億5000万円\"))      # Output: 150000000\n",
    "print(extract_price(\"1億円\"))            # Output: 100000000\n",
    "print(extract_price(\"\\n5000万円\"))         # Output: 50000000"
   ]
  },
  {
   "cell_type": "code",
   "execution_count": 55,
   "metadata": {},
   "outputs": [
    {
     "name": "stdout",
     "output_type": "stream",
     "text": [
      "3 7\n"
     ]
    }
   ],
   "source": [
    "def calculate_age(built_date):\n",
    "    # 現在の年と月を取得\n",
    "    current_date = datetime.now()\n",
    "    current_year = current_date.year\n",
    "    current_month = current_date.month\n",
    "\n",
    "    # built_dateを年と月に分割\n",
    "    match = re.search(r'(\\d+)年(\\d+)月', built_date)\n",
    "    if match:\n",
    "        built_year = int(match.group(1))\n",
    "        built_month = int(match.group(2))\n",
    "    else:\n",
    "        return None,None\n",
    "    \n",
    "    # 築年数を計算\n",
    "    age_years = current_year - built_year\n",
    "    age_months = current_month - built_month\n",
    "\n",
    "    # 月の差がマイナスの場合、年から1を引き、月に12を足す\n",
    "    if age_months < 0:\n",
    "        age_years -= 1\n",
    "        age_months += 12\n",
    "\n",
    "    return age_years,age_months\n",
    "\n",
    "a,b=calculate_age(\"2021年5月\")\n",
    "\n",
    "print(a,b)"
   ]
  },
  {
   "cell_type": "code",
   "execution_count": 56,
   "metadata": {},
   "outputs": [],
   "source": [
    "soup = load_page(url.format(2))"
   ]
  },
  {
   "cell_type": "code",
   "execution_count": 59,
   "metadata": {},
   "outputs": [],
   "source": [
    "def get_estate_data_suumo():\n",
    "    # SUUMOを東京都23区のみ指定して検索して出力した画面のurl(ページ数フォーマットが必要)\n",
    "    url = \"https://suumo.jp/jj/bukken/ichiran/JJ010FJ001/?ar=030&bs=011&ta=13&jspIdFlg=patternShikugun&sc=13101&sc=13102&sc=13103&sc=13104&sc=13105&sc=13113&sc=13106&sc=13107&sc=13108&sc=13118&sc=13121&sc=13122&sc=13123&sc=13109&sc=13110&sc=13111&sc=13112&sc=13114&sc=13115&sc=13120&sc=13116&sc=13117&sc=13119&kb=1&kt=9999999&mb=0&mt=9999999&ekTjCd=&ekTjNm=&tj=0&cnb=0&cn=9999999&srch_navi={{2}}&page={}\"\n",
    "    ESTATES_MAX=30\n",
    "    info={\"name\":[],\n",
    "          \"price\":[],\n",
    "          \"address\":[],\n",
    "          \"area\":[],\n",
    "          \"age_years\":[],\n",
    "          \"age_months\":[],\n",
    "          \"price per unit area\":[]\n",
    "          }\n",
    "\n",
    "    for page in range(1,2):\n",
    "        soup = load_page(url.format(page))\n",
    "        estates_groups = soup.find(\"div\",class_='property_unit_group')\n",
    "        estates = estates_groups.find_all('div', class_='property_unit')\n",
    "\n",
    "        for i in range(ESTATES_MAX):\n",
    "            estate=estates[i].find_all('div', class_='dottable-line')\n",
    "\n",
    "            \n",
    "            name_text=estate[0].find_all(\"dd\")[0].text\n",
    "            info[\"name\"].append(extract_name(name_text))\n",
    "            price_text=estate[1].find_all(\"dd\")[0].text\n",
    "\n",
    "            info[\"price\"].append(extract_price(price_text))\n",
    "            info[\"address\"].append(estate[2].find_all(\"dd\")[0].text)\n",
    "            area_text=estate[3].find_all(\"dd\")[0].text\n",
    "            info[\"area\"].append(extract_area(area_text))\n",
    "            built_date=estate[4].find_all(\"dd\")[1].text\n",
    "            age_years,age_months=calculate_age(built_date)\n",
    "            info[\"age_years\"].append(age_years)\n",
    "            info[\"age_months\"].append(age_months)\n",
    "            info[\"price per unit area\"].append(float(info[\"price\"][-1])/float(info[\"area\"][-1])*3.30578)\n",
    "\n",
    "    return pd.DataFrame(info)\n",
    "\n",
    "data=get_estate_data_suumo()"
   ]
  },
  {
   "cell_type": "code",
   "execution_count": 60,
   "metadata": {},
   "outputs": [
    {
     "data": {
      "text/plain": [
       "<matplotlib.collections.PathCollection at 0x20eef209a10>"
      ]
     },
     "execution_count": 60,
     "metadata": {},
     "output_type": "execute_result"
    },
    {
     "data": {
      "image/png": "[encoded data removed]",
      "text/plain": [
       "<Figure size 640x480 with 1 Axes>"
      ]
     },
     "metadata": {},
     "output_type": "display_data"
    }
   ],
   "source": [
    "import matplotlib.pyplot as plt\n",
    "\n",
    "plt.scatter(data[\"area\"].values,data[\"price\"].values)"
   ]
  },
  {
   "cell_type": "code",
   "execution_count": 53,
   "metadata": {},
   "outputs": [
    {
     "data": {
      "text/plain": [
       "0     92.36\n",
       "1     32.93\n",
       "2     36.45\n",
       "3     37.27\n",
       "4     15.51\n",
       "5     36.45\n",
       "6     18.62\n",
       "7     40.14\n",
       "8     37.37\n",
       "9     29.48\n",
       "10     26.6\n",
       "11    29.88\n",
       "12    20.83\n",
       "13    50.34\n",
       "14    50.34\n",
       "15    51.74\n",
       "16    59.83\n",
       "17    19.43\n",
       "18    61.56\n",
       "19    43.74\n",
       "20    43.33\n",
       "21    33.89\n",
       "22     39.4\n",
       "23    39.76\n",
       "24       55\n",
       "25    65.88\n",
       "26    46.48\n",
       "27     57.1\n",
       "28    28.86\n",
       "29    45.36\n",
       "Name: area, dtype: object"
      ]
     },
     "execution_count": 53,
     "metadata": {},
     "output_type": "execute_result"
    }
   ],
   "source": []
  },
  {
   "cell_type": "code",
   "execution_count": 58,
   "metadata": {},
   "outputs": [],
   "source": [
    "estates_groups = soup.find(\"div\",class_='property_unit_group')\n",
    "estates = estates_groups.find_all('div', class_='property_unit')"
   ]
  },
  {
   "cell_type": "code",
   "execution_count": null,
   "metadata": {},
   "outputs": [],
   "source": [
    "for j in range(6):\n",
    "    a=estates[1].find_all('div', class_='dottable-line')[j].find_all(\"dd\")\n",
    "\n",
    "    a_text=[item.text for item in a]\n",
    "\n",
    "    print(a_text)\n",
    "    print(\"--------------------------\")"
   ]
  },
  {
   "cell_type": "code",
   "execution_count": 79,
   "metadata": {},
   "outputs": [
    {
     "ename": "SyntaxError",
     "evalue": "(unicode error) 'unicodeescape' codec can't decode bytes in position 0-1: truncated \\uXXXX escape (1715940244.py, line 3)",
     "output_type": "error",
     "traceback": [
      "\u001b[0;36m  Cell \u001b[0;32mIn[79], line 3\u001b[0;36m\u001b[0m\n\u001b[0;31m    a.split(\"\\u\")\u001b[0m\n\u001b[0m                ^\u001b[0m\n\u001b[0;31mSyntaxError\u001b[0m\u001b[0;31m:\u001b[0m (unicode error) 'unicodeescape' codec can't decode bytes in position 0-1: truncated \\uXXXX escape\n"
     ]
    }
   ],
   "source": [
    "a='給田西住宅\\u3000１号棟'\n",
    "\n",
    "a.split(\"\\u\")\n"
   ]
  },
  {
   "cell_type": "code",
   "execution_count": null,
   "metadata": {},
   "outputs": [],
   "source": [
    "child_divs = div_estates.find_all('div', class_='property_unit')\n",
    "len(child_divs)"
   ]
  },
  {
   "cell_type": "code",
   "execution_count": null,
   "metadata": {},
   "outputs": [],
   "source": [
    "child_texts = [child.text for child in child_divs]"
   ]
  },
  {
   "cell_type": "code",
   "execution_count": null,
   "metadata": {},
   "outputs": [],
   "source": [
    "child_divs[0]"
   ]
  },
  {
   "cell_type": "code",
   "execution_count": null,
   "metadata": {},
   "outputs": [],
   "source": []
  }
 ],
 "metadata": {
  "kernelspec": {
   "display_name": "streamlit",
   "language": "python",
   "name": "python3"
  },
  "language_info": {
   "codemirror_mode": {
    "name": "ipython",
    "version": 3
   },
   "file_extension": ".py",
   "mimetype": "text/x-python",
   "name": "python",
   "nbconvert_exporter": "python",
   "pygments_lexer": "ipython3",
   "version": "3.11.11"
  }
 },
 "nbformat": 4,
 "nbformat_minor": 2
}
