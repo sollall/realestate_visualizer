{
 "cells": [
  {
   "cell_type": "code",
   "execution_count": null,
   "metadata": {},
   "outputs": [],
   "source": [
    "from bs4 import BeautifulSoup\n",
    "\n",
    "html_content = \"\"\"\n",
    "<div class=\"parent\">\n",
    "    <div class=\"child\">Child 1</div>\n",
    "    <div class=\"child\">Child 2</div>\n",
    "    <div class=\"child\">Child 3</div>\n",
    "</div>\n",
    "\"\"\"\n",
    "\n",
    "soup = BeautifulSoup(html_content, 'html.parser')\n",
    "\n",
    "# 特定の親divを取得\n",
    "parent_div = soup.find('div', class_='parent')\n",
    "\n",
    "# 親divの中のすべての子divをリストとして取得\n",
    "child_divs = parent_div.find_all('div', class_='child')\n",
    "\n",
    "# 子divのテキストをリストとして取得\n",
    "child_texts = [child.text for child in child_divs]\n",
    "\n",
    "print(child_texts)"
   ]
  },
  {
   "cell_type": "code",
   "execution_count": 2,
   "metadata": {},
   "outputs": [],
   "source": [
    "import requests\n",
    "from bs4 import BeautifulSoup\n",
    "from retry import retry\n",
    "import urllib\n",
    "import time\n",
    "import logging\n",
    "\n",
    "import numpy as np"
   ]
  },
  {
   "cell_type": "code",
   "execution_count": 3,
   "metadata": {},
   "outputs": [],
   "source": [
    "# SUUMOを東京都23区のみ指定して検索して出力した画面のurl(ページ数フォーマットが必要)\n",
    "url = \"https://suumo.jp/jj/bukken/ichiran/JJ010FJ001/?ar=030&bs=011&ta=13&jspIdFlg=patternShikugun&sc=13101&sc=13102&sc=13103&sc=13104&sc=13105&sc=13113&sc=13106&sc=13107&sc=13108&sc=13118&sc=13121&sc=13122&sc=13123&sc=13109&sc=13110&sc=13111&sc=13112&sc=13114&sc=13115&sc=13120&sc=13116&sc=13117&sc=13119&kb=1&kt=9999999&mb=0&mt=9999999&ekTjCd=&ekTjNm=&tj=0&cnb=0&cn=9999999&srch_navi={{2}}&page={}\"\n",
    "\n",
    "\n",
    "# リクエストがうまく行かないパターンを回避するためのやり直し\n",
    "@retry(tries=3, delay=10, backoff=2)\n",
    "def load_page(url):\n",
    "    html = requests.get(url)\n",
    "    soup = BeautifulSoup(html.content, 'html.parser')\n",
    "    return soup"
   ]
  },
  {
   "cell_type": "code",
   "execution_count": 98,
   "metadata": {},
   "outputs": [],
   "source": [
    "import re\n",
    "\n",
    "# 面積を抽出する関数\n",
    "def extract_area(text):\n",
    "    match = re.search(r'(\\d+(\\.\\d+)?)m2', text)\n",
    "    if match:\n",
    "        return match.group(1)\n",
    "    return None\n",
    "\n",
    "extract_area(\"50.00m2　（15.13m2）\")\n",
    "\n",
    "def extract_name(text):\n",
    "    return text.split()[0]\n",
    "\n",
    "extract_name(\"給田西住宅\\u3000１号棟\")\n",
    "\n",
    "def extract_price(text):\n",
    "    match = re.search(r'(\\d+億)?\\d+万円', text)\n",
    "    if match:\n",
    "        return match.group(0)\n",
    "    return None"
   ]
  },
  {
   "cell_type": "code",
   "execution_count": 51,
   "metadata": {},
   "outputs": [],
   "source": [
    "soup = load_page(url.format(2))"
   ]
  },
  {
   "cell_type": "code",
   "execution_count": null,
   "metadata": {},
   "outputs": [
    {
     "name": "stdout",
     "output_type": "stream",
     "text": [
      "{'name': ['ロクタス', 'コーポ東山', '洗足シュロス', 'グリーンプラザ綾瀬II', '豊栄アルベルゴ上野', 'パークハイツ', '池袋シティハウス', '鷺宮プリンスマンション', '新菊川ビル', '久我山ロータリーマンション', 'イトーピア豊玉マンション', 'ハイネス阿佐谷', 'ダイヤモンドスクエア駒形', 'セザール第二竹ノ塚', 'セザール第二竹ノ塚', 'ワコー徳丸マンション', '給田西住宅', 'グリーンパーク花畑Iパサージュ', 'アイディ上野Ⅲ', 'ビレッタ池之端', 'ライオンズマンション青戸', 'スカイタウン中野', 'シャンボール上北沢', '力建杉並ハイム', 'カーサ常盤台', 'ボナハイツ中川C棟', 'グリーンコーポお花茶屋', 'ワコーレ赤塚公園', '久我山ロータリーマンション119号室', 'ダイアパレス三ノ輪'], 'price': ['1億4700万円', '1100万円', '1400万円', '1400万円', '1480万円', '1480万円', '1490万円', '1500万円', '1540万円', '1580万円', '1580万円', '1590万円', '1650万円', '1690万円', '1690万円', '1880万円', '1890万円', '1980万円', '1980万円', '1980万円', '1980万円', '1980万円', '1990万円', '1990万円', '2080万円', '2090万円', '2090万円', '2150万円', '2180万円', '2190万円'], 'address': '東京都荒川区荒川１-４６－７', 'area': '41', 'age': '1979年9月'}\n"
     ]
    }
   ],
   "source": [
    "def get_apidata_suumo():\n",
    "    # SUUMOを東京都23区のみ指定して検索して出力した画面のurl(ページ数フォーマットが必要)\n",
    "    url = \"https://suumo.jp/jj/bukken/ichiran/JJ010FJ001/?ar=030&bs=011&ta=13&jspIdFlg=patternShikugun&sc=13101&sc=13102&sc=13103&sc=13104&sc=13105&sc=13113&sc=13106&sc=13107&sc=13108&sc=13118&sc=13121&sc=13122&sc=13123&sc=13109&sc=13110&sc=13111&sc=13112&sc=13114&sc=13115&sc=13120&sc=13116&sc=13117&sc=13119&kb=1&kt=9999999&mb=0&mt=9999999&ekTjCd=&ekTjNm=&tj=0&cnb=0&cn=9999999&srch_navi={{2}}&page={}\"\n",
    "    ESTATES_MAX=30\n",
    "    info={\"name\":[],\n",
    "          \"price\":[],\n",
    "          \"address\":[],\n",
    "          \"area\":[],\n",
    "          \"age\":[]}\n",
    "\n",
    "    for page in range(1,2):\n",
    "        soup = load_page(url.format(page))\n",
    "        estates_groups = soup.find(\"div\",class_='property_unit_group')\n",
    "        estates = estates_groups.find_all('div', class_='property_unit')\n",
    "\n",
    "        for i in range(ESTATES_MAX):\n",
    "            estate=estates[i].find_all('div', class_='dottable-line')\n",
    "\n",
    "            \n",
    "            name_text=estate[0].find_all(\"dd\")[0].text\n",
    "            info[\"name\"].append(extract_name(name_text))\n",
    "            price_text=estate[1].find_all(\"dd\")[0].text\n",
    "            info[\"price\"].append(extract_price(price_text))\n",
    "            info[\"address\"]=estate[2].find_all(\"dd\")[0].text\n",
    "            area_text=estate[3].find_all(\"dd\")[0].text\n",
    "            info[\"area\"]=extract_area(area_text)\n",
    "            info[\"age\"]=estate[4].find_all(\"dd\")[1].text\n",
    "            \n",
    "\n",
    "\n",
    "        print(info)\n",
    "\n",
    "\n",
    "    return \n",
    "\n",
    "get_apidata_suumo()"
   ]
  },
  {
   "cell_type": "code",
   "execution_count": 58,
   "metadata": {},
   "outputs": [],
   "source": [
    "estates_groups = soup.find(\"div\",class_='property_unit_group')\n",
    "estates = estates_groups.find_all('div', class_='property_unit')"
   ]
  },
  {
   "cell_type": "code",
   "execution_count": null,
   "metadata": {},
   "outputs": [],
   "source": [
    "for j in range(6):\n",
    "    a=estates[1].find_all('div', class_='dottable-line')[j].find_all(\"dd\")\n",
    "\n",
    "    a_text=[item.text for item in a]\n",
    "\n",
    "    print(a_text)\n",
    "    print(\"--------------------------\")"
   ]
  },
  {
   "cell_type": "code",
   "execution_count": 79,
   "metadata": {},
   "outputs": [
    {
     "ename": "SyntaxError",
     "evalue": "(unicode error) 'unicodeescape' codec can't decode bytes in position 0-1: truncated \\uXXXX escape (1715940244.py, line 3)",
     "output_type": "error",
     "traceback": [
      "\u001b[0;36m  Cell \u001b[0;32mIn[79], line 3\u001b[0;36m\u001b[0m\n\u001b[0;31m    a.split(\"\\u\")\u001b[0m\n\u001b[0m                ^\u001b[0m\n\u001b[0;31mSyntaxError\u001b[0m\u001b[0;31m:\u001b[0m (unicode error) 'unicodeescape' codec can't decode bytes in position 0-1: truncated \\uXXXX escape\n"
     ]
    }
   ],
   "source": [
    "a='給田西住宅\\u3000１号棟'\n",
    "\n",
    "a.split(\"\\u\")\n"
   ]
  },
  {
   "cell_type": "code",
   "execution_count": null,
   "metadata": {},
   "outputs": [],
   "source": [
    "child_divs = div_estates.find_all('div', class_='property_unit')\n",
    "len(child_divs)"
   ]
  },
  {
   "cell_type": "code",
   "execution_count": null,
   "metadata": {},
   "outputs": [],
   "source": [
    "child_texts = [child.text for child in child_divs]"
   ]
  },
  {
   "cell_type": "code",
   "execution_count": null,
   "metadata": {},
   "outputs": [],
   "source": [
    "child_divs[0]"
   ]
  },
  {
   "cell_type": "code",
   "execution_count": null,
   "metadata": {},
   "outputs": [],
   "source": []
  }
 ],
 "metadata": {
  "kernelspec": {
   "display_name": "streamlit",
   "language": "python",
   "name": "python3"
  },
  "language_info": {
   "codemirror_mode": {
    "name": "ipython",
    "version": 3
   },
   "file_extension": ".py",
   "mimetype": "text/x-python",
   "name": "python",
   "nbconvert_exporter": "python",
   "pygments_lexer": "ipython3",
   "version": "3.11.11"
  }
 },
 "nbformat": 4,
 "nbformat_minor": 2
}
